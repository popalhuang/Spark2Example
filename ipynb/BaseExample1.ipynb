{
 "cells": [
  {
   "cell_type": "code",
   "execution_count": 6,
   "metadata": {
    "collapsed": false
   },
   "outputs": [
    {
     "name": "stdout",
     "output_type": "stream",
     "text": [
      "The Zen of Python, by Tim Peters\n",
      "\n",
      "Beautiful is better than ugly.\n",
      "Explicit is better than implicit.\n",
      "Simple is better than complex.\n",
      "Complex is better than complicated.\n",
      "Flat is better than nested.\n",
      "Sparse is better than dense.\n",
      "Readability counts.\n",
      "Special cases aren't special enough to break the rules.\n",
      "Although practicality beats purity.\n",
      "Errors should never pass silently.\n",
      "Unless explicitly silenced.\n",
      "In the face of ambiguity, refuse the temptation to guess.\n",
      "There should be one-- and preferably only one --obvious way to do it.\n",
      "Although that way may not be obvious at first unless you're Dutch.\n",
      "Now is better than never.\n",
      "Although never is often better than *right* now.\n",
      "If the implementation is hard to explain, it's a bad idea.\n",
      "If the implementation is easy to explain, it may be a good idea.\n",
      "Namespaces are one honking great idea -- let's do more of those!\n"
     ]
    }
   ],
   "source": [
    "import this"
   ]
  },
  {
   "cell_type": "markdown",
   "metadata": {},
   "source": [
    "#### 以下列表為關鍵字,不得在變數命名中使用"
   ]
  },
  {
   "cell_type": "code",
   "execution_count": 25,
   "metadata": {
    "collapsed": false
   },
   "outputs": [
    {
     "data": {
      "text/plain": [
       "['False',\n",
       " 'None',\n",
       " 'True',\n",
       " 'and',\n",
       " 'as',\n",
       " 'assert',\n",
       " 'break',\n",
       " 'class',\n",
       " 'continue',\n",
       " 'def',\n",
       " 'del',\n",
       " 'elif',\n",
       " 'else',\n",
       " 'except',\n",
       " 'finally',\n",
       " 'for',\n",
       " 'from',\n",
       " 'global',\n",
       " 'if',\n",
       " 'import',\n",
       " 'in',\n",
       " 'is',\n",
       " 'lambda',\n",
       " 'nonlocal',\n",
       " 'not',\n",
       " 'or',\n",
       " 'pass',\n",
       " 'raise',\n",
       " 'return',\n",
       " 'try',\n",
       " 'while',\n",
       " 'with',\n",
       " 'yield']"
      ]
     },
     "execution_count": 25,
     "metadata": {},
     "output_type": "execute_result"
    }
   ],
   "source": [
    "import keyword\n",
    "keyword.kwlist"
   ]
  },
  {
   "cell_type": "markdown",
   "metadata": {},
   "source": [
    "#### 在 __builtins__模組中的函式、類別等名稱，都可以不用 import 直接取用，而且不用加上模組名稱作為前置"
   ]
  },
  {
   "cell_type": "code",
   "execution_count": 13,
   "metadata": {
    "collapsed": false
   },
   "outputs": [
    {
     "data": {
      "text/plain": [
       "['ArithmeticError',\n",
       " 'AssertionError',\n",
       " 'AttributeError',\n",
       " 'BaseException',\n",
       " 'BlockingIOError',\n",
       " 'BrokenPipeError',\n",
       " 'BufferError',\n",
       " 'BytesWarning',\n",
       " 'ChildProcessError',\n",
       " 'ConnectionAbortedError',\n",
       " 'ConnectionError',\n",
       " 'ConnectionRefusedError',\n",
       " 'ConnectionResetError',\n",
       " 'DeprecationWarning',\n",
       " 'EOFError',\n",
       " 'Ellipsis',\n",
       " 'EnvironmentError',\n",
       " 'Exception',\n",
       " 'False',\n",
       " 'FileExistsError',\n",
       " 'FileNotFoundError',\n",
       " 'FloatingPointError',\n",
       " 'FutureWarning',\n",
       " 'GeneratorExit',\n",
       " 'IOError',\n",
       " 'ImportError',\n",
       " 'ImportWarning',\n",
       " 'IndentationError',\n",
       " 'IndexError',\n",
       " 'InterruptedError',\n",
       " 'IsADirectoryError',\n",
       " 'KeyError',\n",
       " 'KeyboardInterrupt',\n",
       " 'LookupError',\n",
       " 'MemoryError',\n",
       " 'ModuleNotFoundError',\n",
       " 'NameError',\n",
       " 'None',\n",
       " 'NotADirectoryError',\n",
       " 'NotImplemented',\n",
       " 'NotImplementedError',\n",
       " 'OSError',\n",
       " 'OverflowError',\n",
       " 'PendingDeprecationWarning',\n",
       " 'PermissionError',\n",
       " 'ProcessLookupError',\n",
       " 'RecursionError',\n",
       " 'ReferenceError',\n",
       " 'ResourceWarning',\n",
       " 'RuntimeError',\n",
       " 'RuntimeWarning',\n",
       " 'StopAsyncIteration',\n",
       " 'StopIteration',\n",
       " 'SyntaxError',\n",
       " 'SyntaxWarning',\n",
       " 'SystemError',\n",
       " 'SystemExit',\n",
       " 'TabError',\n",
       " 'TimeoutError',\n",
       " 'True',\n",
       " 'TypeError',\n",
       " 'UnboundLocalError',\n",
       " 'UnicodeDecodeError',\n",
       " 'UnicodeEncodeError',\n",
       " 'UnicodeError',\n",
       " 'UnicodeTranslateError',\n",
       " 'UnicodeWarning',\n",
       " 'UserWarning',\n",
       " 'ValueError',\n",
       " 'Warning',\n",
       " 'WindowsError',\n",
       " 'ZeroDivisionError',\n",
       " '__IPYTHON__',\n",
       " '__build_class__',\n",
       " '__debug__',\n",
       " '__doc__',\n",
       " '__import__',\n",
       " '__loader__',\n",
       " '__name__',\n",
       " '__package__',\n",
       " '__spec__',\n",
       " 'abs',\n",
       " 'all',\n",
       " 'any',\n",
       " 'ascii',\n",
       " 'bin',\n",
       " 'bool',\n",
       " 'bytearray',\n",
       " 'bytes',\n",
       " 'callable',\n",
       " 'chr',\n",
       " 'classmethod',\n",
       " 'compile',\n",
       " 'complex',\n",
       " 'copyright',\n",
       " 'credits',\n",
       " 'delattr',\n",
       " 'dict',\n",
       " 'dir',\n",
       " 'divmod',\n",
       " 'dreload',\n",
       " 'enumerate',\n",
       " 'eval',\n",
       " 'exec',\n",
       " 'filter',\n",
       " 'float',\n",
       " 'format',\n",
       " 'frozenset',\n",
       " 'get_ipython',\n",
       " 'getattr',\n",
       " 'globals',\n",
       " 'hasattr',\n",
       " 'hash',\n",
       " 'help',\n",
       " 'hex',\n",
       " 'id',\n",
       " 'input',\n",
       " 'int',\n",
       " 'isinstance',\n",
       " 'issubclass',\n",
       " 'iter',\n",
       " 'len',\n",
       " 'license',\n",
       " 'list',\n",
       " 'locals',\n",
       " 'map',\n",
       " 'max',\n",
       " 'memoryview',\n",
       " 'min',\n",
       " 'next',\n",
       " 'object',\n",
       " 'oct',\n",
       " 'open',\n",
       " 'ord',\n",
       " 'pow',\n",
       " 'print',\n",
       " 'property',\n",
       " 'range',\n",
       " 'repr',\n",
       " 'reversed',\n",
       " 'round',\n",
       " 'set',\n",
       " 'setattr',\n",
       " 'slice',\n",
       " 'sorted',\n",
       " 'staticmethod',\n",
       " 'str',\n",
       " 'sum',\n",
       " 'super',\n",
       " 'tuple',\n",
       " 'type',\n",
       " 'vars',\n",
       " 'zip']"
      ]
     },
     "execution_count": 13,
     "metadata": {},
     "output_type": "execute_result"
    }
   ],
   "source": [
    "dir(__builtins__)"
   ]
  },
  {
   "cell_type": "markdown",
   "metadata": {},
   "source": [
    "#### 如果有多個模組需要 import，除了逐行import 之外，也可以在單一行中使用逗號「,」來區隔模組"
   ]
  },
  {
   "cell_type": "code",
   "execution_count": 209,
   "metadata": {
    "collapsed": false
   },
   "outputs": [],
   "source": [
    "import sys, email"
   ]
  },
  {
   "cell_type": "markdown",
   "metadata": {},
   "source": [
    "#### 取得協助訊息"
   ]
  },
  {
   "cell_type": "code",
   "execution_count": 23,
   "metadata": {
    "collapsed": false,
    "scrolled": true
   },
   "outputs": [
    {
     "name": "stdout",
     "output_type": "stream",
     "text": [
      "Help on built-in function print in module builtins:\n",
      "\n",
      "print(...)\n",
      "    print(value, ..., sep=' ', end='\\n', file=sys.stdout, flush=False)\n",
      "    \n",
      "    Prints the values to a stream, or to sys.stdout by default.\n",
      "    Optional keyword arguments:\n",
      "    file:  a file-like object (stream); defaults to the current sys.stdout.\n",
      "    sep:   string inserted between values, default a space.\n",
      "    end:   string appended after the last value, default a newline.\n",
      "    flush: whether to forcibly flush the stream.\n",
      "\n"
     ]
    }
   ],
   "source": [
    "help(print)"
   ]
  },
  {
   "cell_type": "code",
   "execution_count": 24,
   "metadata": {
    "collapsed": false,
    "scrolled": true
   },
   "outputs": [
    {
     "data": {
      "text/plain": [
       "['',\n",
       " 'C:\\\\Developer\\\\Anaconda3\\\\python36.zip',\n",
       " 'C:\\\\Developer\\\\Anaconda3\\\\DLLs',\n",
       " 'C:\\\\Developer\\\\Anaconda3\\\\lib',\n",
       " 'C:\\\\Developer\\\\Anaconda3',\n",
       " 'C:\\\\Developer\\\\Anaconda3\\\\lib\\\\site-packages',\n",
       " 'C:\\\\Developer\\\\Anaconda3\\\\lib\\\\site-packages\\\\Sphinx-1.5.1-py3.6.egg',\n",
       " 'C:\\\\Developer\\\\Anaconda3\\\\lib\\\\site-packages\\\\win32',\n",
       " 'C:\\\\Developer\\\\Anaconda3\\\\lib\\\\site-packages\\\\win32\\\\lib',\n",
       " 'C:\\\\Developer\\\\Anaconda3\\\\lib\\\\site-packages\\\\Pythonwin',\n",
       " 'C:\\\\Developer\\\\Anaconda3\\\\lib\\\\site-packages\\\\setuptools-27.2.0-py3.6.egg',\n",
       " 'C:\\\\Developer\\\\Anaconda3\\\\lib\\\\site-packages\\\\IPython\\\\extensions',\n",
       " 'C:\\\\Users\\\\kevin\\\\.ipython']"
      ]
     },
     "execution_count": 24,
     "metadata": {},
     "output_type": "execute_result"
    }
   ],
   "source": [
    "import sys\n",
    "sys.path"
   ]
  },
  {
   "cell_type": "markdown",
   "metadata": {},
   "source": [
    "## 變數"
   ]
  },
  {
   "cell_type": "code",
   "execution_count": 168,
   "metadata": {
    "collapsed": false
   },
   "outputs": [],
   "source": [
    "## 變數命名規則\n",
    "## 變數名稱由以下三種字元組成\n",
    "##_(底線),大小寫英文字母(A-Z,a-z),數字(0-9)\n",
    "_1=123\n",
    "_a=123\n",
    "_123aa=123\n",
    "_a1=123"
   ]
  },
  {
   "cell_type": "code",
   "execution_count": 169,
   "metadata": {
    "collapsed": false
   },
   "outputs": [
    {
     "ename": "SyntaxError",
     "evalue": "invalid syntax (<ipython-input-169-923837226d2d>, line 2)",
     "output_type": "error",
     "traceback": [
      "\u001b[0;36m  File \u001b[0;32m\"<ipython-input-169-923837226d2d>\"\u001b[0;36m, line \u001b[0;32m2\u001b[0m\n\u001b[0;31m    1a=123\u001b[0m\n\u001b[0m     ^\u001b[0m\n\u001b[0;31mSyntaxError\u001b[0m\u001b[0;31m:\u001b[0m invalid syntax\n"
     ]
    }
   ],
   "source": [
    "## 不可使用命名規則\n",
    "## 變數名稱第一個字元不得為數值\n",
    "1a=123"
   ]
  },
  {
   "cell_type": "code",
   "execution_count": 170,
   "metadata": {
    "collapsed": false
   },
   "outputs": [
    {
     "ename": "SyntaxError",
     "evalue": "invalid syntax (<ipython-input-170-d7a125b4d13c>, line 2)",
     "output_type": "error",
     "traceback": [
      "\u001b[0;36m  File \u001b[0;32m\"<ipython-input-170-d7a125b4d13c>\"\u001b[0;36m, line \u001b[0;32m2\u001b[0m\n\u001b[0;31m    or=123\u001b[0m\n\u001b[0m     ^\u001b[0m\n\u001b[0;31mSyntaxError\u001b[0m\u001b[0;31m:\u001b[0m invalid syntax\n"
     ]
    }
   ],
   "source": [
    "## 關鍵字,保留字不能做為變數命名規則\n",
    "or=123"
   ]
  },
  {
   "cell_type": "code",
   "execution_count": 179,
   "metadata": {
    "collapsed": false
   },
   "outputs": [
    {
     "name": "stdout",
     "output_type": "stream",
     "text": [
      "圓半徑: 10\n",
      "圓周長: 62.800000000000004\n",
      "圓面積: 314.0\n",
      "----------\n",
      "圓半徑: 10\n",
      "圓周長: 62.800000000000004\n",
      "圓面積: 314.0\n"
     ]
    }
   ],
   "source": [
    "##這麼寫可不行,習慣不好\n",
    "print('圓半徑:',10)\n",
    "print('圓周長:',2 * 3.14 * 10)\n",
    "print('圓面積:',3.14 * 10 * 10)\n",
    "print('----------')\n",
    "\n",
    "##使用變數\n",
    "radius=10\n",
    "PI=3.14\n",
    "print('圓半徑:',radius)\n",
    "print('圓周長:',2*PI*radius)\n",
    "print('圓面積:',3.14*radius*radius)"
   ]
  },
  {
   "cell_type": "code",
   "execution_count": 180,
   "metadata": {
    "collapsed": false
   },
   "outputs": [
    {
     "ename": "NameError",
     "evalue": "name 'x' is not defined",
     "output_type": "error",
     "traceback": [
      "\u001b[0;31m---------------------------------------------------------------------------\u001b[0m",
      "\u001b[0;31mNameError\u001b[0m                                 Traceback (most recent call last)",
      "\u001b[0;32m<ipython-input-180-e95b383c8fd3>\u001b[0m in \u001b[0;36m<module>\u001b[0;34m()\u001b[0m\n\u001b[1;32m      3\u001b[0m \u001b[1;31m## 建立變數前就嘗試存取某變數， 會發生 NameError\u001b[0m\u001b[1;33m\u001b[0m\u001b[1;33m\u001b[0m\u001b[0m\n\u001b[1;32m      4\u001b[0m \u001b[1;33m\u001b[0m\u001b[0m\n\u001b[0;32m----> 5\u001b[0;31m \u001b[0mx\u001b[0m\u001b[1;33m\u001b[0m\u001b[0m\n\u001b[0m",
      "\u001b[0;31mNameError\u001b[0m: name 'x' is not defined"
     ]
    }
   ],
   "source": [
    "## Python 屬於動態定型語言，變數本身並沒有型態資訊\n",
    "## 建立變數都沒有宣告型態，只要命名變數並使用指定運算「=」指定一個值\n",
    "## 建立變數前就嘗試存取某變數， 會發生 NameError\n",
    "\n",
    "x"
   ]
  },
  {
   "cell_type": "code",
   "execution_count": 183,
   "metadata": {
    "collapsed": false
   },
   "outputs": [
    {
     "name": "stdout",
     "output_type": "stream",
     "text": [
      "82102024 82102024\n",
      "82102024 82101616\n",
      "1592768976\n",
      "1592769008\n"
     ]
    }
   ],
   "source": [
    "## 變數始終是個參考至實際物件的名稱，指定運算只是改變了變數的參考對象\n",
    "x=1.0\n",
    "y=x\n",
    "print(id(x),id(y))\n",
    "\n",
    "y=2.0\n",
    "print(id(x),id(y))\n",
    "\n",
    "\n",
    "x=1\n",
    "print(id(x))\n",
    "x=x+1\n",
    "print(id(x))"
   ]
  },
  {
   "cell_type": "code",
   "execution_count": 188,
   "metadata": {
    "collapsed": false
   },
   "outputs": [
    {
     "name": "stdout",
     "output_type": "stream",
     "text": [
      "[10, 2, 3]\n",
      "True\n",
      "False\n"
     ]
    }
   ],
   "source": [
    "## 變數在 Python 中只是個參考至物件的名稱，對於可變動物件，才會有以下的操作結果：\n",
    "x=[1,2,3]\n",
    "y=x\n",
    "x[0]=10\n",
    "print(y)\n",
    "\n",
    "list1=[1,2,3]\n",
    "list2=[1,2,3]\n",
    "\n",
    "print(list1==list2)\n",
    "print(list1 is list2)"
   ]
  },
  {
   "cell_type": "markdown",
   "metadata": {},
   "source": [
    "#### 鴨子定型（Duck typing）：「如果它走路像個鴨子，游泳像個鴨子，叫聲像個鴨子，那它就是鴨子。"
   ]
  },
  {
   "cell_type": "code",
   "execution_count": 208,
   "metadata": {
    "collapsed": false
   },
   "outputs": [
    {
     "name": "stdout",
     "output_type": "stream",
     "text": [
      "1\n",
      "1\n",
      "4\n",
      "[1, 2, 3]\n"
     ]
    },
    {
     "ename": "NameError",
     "evalue": "name 'x' is not defined",
     "output_type": "error",
     "traceback": [
      "\u001b[0;31m---------------------------------------------------------------------------\u001b[0m",
      "\u001b[0;31mNameError\u001b[0m                                 Traceback (most recent call last)",
      "\u001b[0;32m<ipython-input-208-074e02aff450>\u001b[0m in \u001b[0;36m<module>\u001b[0;34m()\u001b[0m\n\u001b[1;32m     15\u001b[0m \u001b[0mprint\u001b[0m\u001b[1;33m(\u001b[0m\u001b[0mx\u001b[0m\u001b[1;33m)\u001b[0m\u001b[1;33m\u001b[0m\u001b[0m\n\u001b[1;32m     16\u001b[0m \u001b[1;32mdel\u001b[0m \u001b[0mx\u001b[0m\u001b[1;33m\u001b[0m\u001b[0m\n\u001b[0;32m---> 17\u001b[0;31m \u001b[0mprint\u001b[0m\u001b[1;33m(\u001b[0m\u001b[0mx\u001b[0m\u001b[1;33m)\u001b[0m\u001b[1;33m\u001b[0m\u001b[0m\n\u001b[0m",
      "\u001b[0;31mNameError\u001b[0m: name 'x' is not defined"
     ]
    }
   ],
   "source": [
    "## 變數本身沒有型態，同一個變數可以前後指定不同的資料型態\n",
    "x=[1,2,3]\n",
    "print(x.index(2))\n",
    "x=(10,20,30)\n",
    "print(x.index(20))\n",
    "\n",
    "## 如果想要知道一個物件有幾個名稱參考至它，可以使用 sys.getrefcount()\n",
    "import sys\n",
    "x=[1,2,3]\n",
    "y=x\n",
    "z=x\n",
    "print(sys.getrefcount(x))\n",
    "\n",
    "## 可以使用del來刪除變數\n",
    "print(x)\n",
    "del x\n",
    "print(x)"
   ]
  },
  {
   "cell_type": "markdown",
   "metadata": {},
   "source": [
    "## 基本資料型別"
   ]
  },
  {
   "cell_type": "code",
   "execution_count": 94,
   "metadata": {
    "collapsed": false
   },
   "outputs": [
    {
     "name": "stdout",
     "output_type": "stream",
     "text": [
      "<class 'str'>\n",
      "10:<class 'int'>\n",
      "0b1010:<class 'int'>\n",
      "0o12:<class 'int'>\n",
      "0xA:<class 'int'>\n",
      "float_1:<class 'float'>\n",
      "a:<class 'complex'>\n",
      "b:<class 'complex'>\n",
      "(8+5j)\n",
      "True\n",
      "False\n",
      "False\n",
      "True\n",
      "False\n",
      "str1:<class 'str'>,Hello1!!\n",
      "str2:<class 'str'>,Hello2!!\n"
     ]
    }
   ],
   "source": [
    "## 想知道某個資料的型態，可以使用 type()\n",
    "print(type(\"Hello world!!\"))\n",
    "\n",
    "## 整數\n",
    "## 型態為 int，不再區分整數與長整數\n",
    "## 整數的長度不受限制（除了硬體上的限制之外)\n",
    "print(\"10:\"+str(type(10)))\n",
    "print(\"0b1010:\"+str(type(0b1010)))\n",
    "print(\"0o12:\"+str(type(0o12)))\n",
    "print(\"0xA:\"+str(type(0xA)))\n",
    "\n",
    "## 浮點數型態\n",
    "float_1=123.1\n",
    "print(\"float_1:\"+str(type(float_1)))\n",
    "\n",
    "## 複數\n",
    "## 型態為 complex\n",
    "## 撰寫時使用a + bj 的形式\n",
    "a=3+2j\n",
    "b=5+3j\n",
    "print(\"a:\"+str(type(a)))\n",
    "print(\"b:\"+str(type(b)))\n",
    "print(a+b)\n",
    "\n",
    "\"\"\"\n",
    "布林\n",
    "  1.bool 型態\n",
    "  2.只有 True 與 False 兩個值\n",
    "  3.bool() 可將 0 轉換為 False，而非 0 值轉換為 True\n",
    "  4.將 None、False、0、0.0、0j（複數）、''（空字串）、()（空 Tuple）、[]（空清單）、{}（空字典）等傳給 bool()，都會傳回 False，\n",
    "    這些型態的其他值傳入bool() 則都會傳回 True\n",
    "\"\"\"\n",
    "bool_1=True\n",
    "bool_2=False\n",
    "bool_3=bool(0)\n",
    "bool_4=bool(3)\n",
    "bool_5=bool(None)\n",
    "print(bool_1)\n",
    "print(bool_2)\n",
    "print(bool_3)\n",
    "print(bool_4)\n",
    "print(bool_5)\n",
    "\n",
    "## 字串型態\n",
    "## 可以使用''或\"\"包括文字\n",
    "## Python 3 之後的版本都是產生 str 實例\n",
    "## 多數 Python 開發者的習慣是使用單引號\n",
    "str1=\"Hello1!!\"\n",
    "str2='Hello2!!'\n",
    "print(\"str1:\"+str(type(str1))+\",\"+str1)\n",
    "print(\"str2:\"+str(type(str2))+\",\"+str2)"
   ]
  },
  {
   "cell_type": "markdown",
   "metadata": {},
   "source": [
    "#### 各種型態int轉換(使用內建int())"
   ]
  },
  {
   "cell_type": "code",
   "execution_count": 271,
   "metadata": {
    "collapsed": false
   },
   "outputs": [
    {
     "name": "stdout",
     "output_type": "stream",
     "text": [
      "257\n",
      "101\n",
      "65\n",
      "5\n",
      "22\n",
      "32\n",
      "11\n",
      "36\n",
      "33\n"
     ]
    }
   ],
   "source": [
    "## float轉型成int時,會無條件捨去後面小數點\n",
    "\n",
    "print(int(\"101\",16))\n",
    "print(int(\"101\",10))\n",
    "print(int(\"101\",8))\n",
    "print(int(\"101\",2))\n",
    "print(int(22.01))\n",
    "print(int(32.56))\n",
    "print(int(float(\"11.0\")))\n",
    "print(int(float(\"36.9\")))\n",
    "print(int(float(\"33.4\")))"
   ]
  },
  {
   "cell_type": "markdown",
   "metadata": {},
   "source": [
    "#### 字串型態"
   ]
  },
  {
   "cell_type": "code",
   "execution_count": 56,
   "metadata": {
    "collapsed": false
   },
   "outputs": [
    {
     "name": "stdout",
     "output_type": "stream",
     "text": [
      "str1:<class 'str'>,Hello1!!\n",
      "str2:<class 'str'>,Hello2!!\n"
     ]
    }
   ],
   "source": [
    "## 可以使用''或\"\"包括文字\n",
    "## Python 3 之後的版本都是產生 str 實例\n",
    "## 多數 Python 開發者的習慣是使用單引號\n",
    "str1=\"Hello1!!\"\n",
    "str2='Hello2!!'\n",
    "print(\"str1:\"+str(type(str1))+\",\"+str1)\n",
    "print(\"str2:\"+str(type(str2))+\",\"+str2)"
   ]
  },
  {
   "cell_type": "code",
   "execution_count": 73,
   "metadata": {
    "collapsed": false
   },
   "outputs": [
    {
     "name": "stdout",
     "output_type": "stream",
     "text": [
      "c:\\developer\n",
      "Justin's book\n",
      "\"test\"\n",
      "B\n",
      "B\n",
      "哈囉\n",
      "哈囉\n",
      "test\u0000test2\n",
      "test\n",
      "test2\n",
      "test\r",
      "test2\n",
      "test\ttest2\n"
     ]
    }
   ],
   "source": [
    "## \\\\ 反斜線\n",
    "print(\"c:\\\\developer\")\n",
    "\n",
    "## \\' 單引號 ,當你使用''來表示字串時,又要表示單引號時使用\n",
    "print(\"Justin\\'s book\")\n",
    "\n",
    "## \\\" 雙引號 ,當你使用\"來表示字串時,又要表示雙引號時使用\n",
    "print(\"\\\"test\\\"\")\n",
    "\n",
    "## \\ooo,以八進制,表示指定字元碼點(code point),最多三位數\n",
    "print(\"\\102\")\n",
    "\n",
    "## \\xhh,,以十六進制,表示指定字元碼點(code point),最多三位數\n",
    "print(\"\\x42\")\n",
    "\n",
    "## \\uhhhh,以16bit,16進制值表示指定字元\n",
    "print(\"\\u54C8\\u56C9\")\n",
    "\n",
    "## \\Uhhhhhhhhh,以32bit,16進制值表是指定字元\n",
    "print(\"\\U000054C8\\U000056C9\")\n",
    "\n",
    "## \\0,空字元,不要與空字串混淆\n",
    "print(\"test\\0test2\")\n",
    "\n",
    "## \\n,換行\n",
    "print(\"test\\ntest2\")\n",
    "\n",
    "## \\r,歸位\n",
    "print(\"test\\rtest2\")\n",
    "\n",
    "## \\t,Tab(相當於案Tab鍵用法)\n",
    "print(\"test\\ttest2\")"
   ]
  },
  {
   "cell_type": "code",
   "execution_count": 77,
   "metadata": {
    "collapsed": false
   },
   "outputs": [
    {
     "name": "stdout",
     "output_type": "stream",
     "text": [
      "\n",
      "test\n",
      "    test2\n",
      "\n"
     ]
    }
   ],
   "source": [
    "#在三重引號間輸入的任何內容，在最後的字串會照單全收，像是包括換行、縮排等\n",
    "print('''\n",
    "test\n",
    "    test2\n",
    "''')"
   ]
  },
  {
   "cell_type": "code",
   "execution_count": 105,
   "metadata": {
    "collapsed": false
   },
   "outputs": [
    {
     "name": "stdout",
     "output_type": "stream",
     "text": [
      "123\n",
      "21704\n",
      "哈\n"
     ]
    }
   ],
   "source": [
    "print(str(123))    ##數值資料轉換成字串\n",
    "print(ord(\"哈\"))   ##將字元轉成碼點\n",
    "print(chr(21704))  ##將碼點轉字元"
   ]
  },
  {
   "cell_type": "code",
   "execution_count": 112,
   "metadata": {
    "collapsed": false
   },
   "outputs": [
    {
     "name": "stdout",
     "output_type": "stream",
     "text": [
      "hello kevin\n",
      "hello,kevin\n",
      "hello,kevin\n"
     ]
    }
   ],
   "source": [
    "## print() 函式的顯示預設是會換行\n",
    "name='kevin'\n",
    "print('hello',name)\n",
    "\n",
    "## print()有個 end 參數，在指定的字串顯示之後，end 參數指定的字串就會輸出\n",
    "name='kevin'\n",
    "print('hello',end=',')\n",
    "print(name)\n",
    "\n",
    "##預設的分隔符號是一個空白字元，如果想要指定其他字元的話，可以指定 sep 參數\n",
    "name='kevin'\n",
    "print('hello',name,sep=',')\n"
   ]
  },
  {
   "cell_type": "code",
   "execution_count": 125,
   "metadata": {
    "collapsed": false
   },
   "outputs": [
    {
     "name": "stdout",
     "output_type": "stream",
     "text": [
      "測試!hello\n",
      "測試!hellotest\n",
      "您目前存款只剩10000元\n",
      "您目前存款只剩10000.000000元\n",
      "您目前存款只剩10000元\n",
      "您目前存款只剩23420元\n",
      "您目前存款只剩2710元\n"
     ]
    }
   ],
   "source": [
    "##舊的字串格式化是使用 string % data 或 string % (data1, data2, …)\n",
    "## %s,字串格式符號\n",
    "print('測試!%s' % (\"hello\"))\n",
    "print('測試!%s%s' % (\"hello\",\"test\"))\n",
    "\n",
    "## %d,10進位整數格式符號\n",
    "print('您目前存款只剩%d元' %(10000))\n",
    "\n",
    "## %f,10進位浮點數格式符號\n",
    "print('您目前存款只剩%f元' %(10000))\n",
    "\n",
    "## %g,10進位浮點數/整數格式符號\n",
    "print('您目前存款只剩%g元' %(10000))\n",
    "\n",
    "## %o,八進制格式符號\n",
    "print('您目前存款只剩%o元' %(10000))\n",
    "\n",
    "## %x,十六進制格式符號\n",
    "print('您目前存款只剩%x元' %(10000))"
   ]
  },
  {
   "cell_type": "code",
   "execution_count": 134,
   "metadata": {
    "collapsed": false
   },
   "outputs": [
    {
     "name": "stdout",
     "output_type": "stream",
     "text": [
      "10除以3 是 3.3333333333333335\n",
      "10除以3 是 3.3333333333333335\n",
      "10除以3 是 3.3333333333333335\n",
      "10除以3 是 3.333333\n",
      "   10除以    3 是       3.33\n",
      "   10除以    3 是 3.33\n",
      "10   除以3     是 3.33\n",
      "   10除以    3 是 3.33\n",
      "*10**除以!!3!! 是 3.33\n"
     ]
    }
   ],
   "source": [
    "##使用 Python 3 之後的版本（或者Python 2.6、2.7），建議使用新的格式化\n",
    "print('{}除以{} 是 {}'.format(10,3,10/3))\n",
    "print('{2}除以{1} 是 {0}'.format(10/3,3,10))\n",
    "print('{n1}除以{n2} 是 {result}'.format(result=10/3,n1=10,n2=3))\n",
    "\n",
    "print('{0:d}除以{1:d} 是 {2:f}'.format(10,3,10/3))\n",
    "print('{0:5d}除以{1:5d} 是 {2:10.2f}'.format(10,3,10/3))\n",
    "print('{n1:5d}除以{n2:5d} 是 {r:.2f}'.format(n1=10,n2=3,r=10/3))\n",
    "print('{n1:<5d}除以{n2:<5d} 是 {r:.2f}'.format(n1=10,n2=3,r=10/3))\n",
    "print('{n1:>5d}除以{n2:>5d} 是 {r:.2f}'.format(n1=10,n2=3,r=10/3))\n",
    "print('{n1:*^5d}除以{n2:!^5d} 是 {r:.2f}'.format(n1=10,n2=3,r=10/3))"
   ]
  },
  {
   "cell_type": "code",
   "execution_count": 143,
   "metadata": {
    "collapsed": false
   },
   "outputs": [
    {
     "name": "stdout",
     "output_type": "stream",
     "text": [
      "All Names:kevin,ted,peter\n",
      "The Password of kevin is !QAZxsw2\n",
      "My Platform is win32\n",
      "3.14\n"
     ]
    }
   ],
   "source": [
    "names=[\"kevin\",\"ted\",\"peter\"]\n",
    "print('All Names:{n[0]},{n[1]},{n[2]}'.format(n=names))\n",
    "\n",
    "passwords={\"kevin\":\"!QAZxsw2\",\"ted\":\"12345\",\"peter\":\"passw0rd\"}\n",
    "print('The Password of kevin is {passwd[kevin]}'.format(passwd=passwords))\n",
    "\n",
    "import sys\n",
    "print('My Platform is {pc.platform}'.format(pc=sys))\n",
    "\n",
    "print(format(3.1415926,'.2f'))"
   ]
  },
  {
   "cell_type": "markdown",
   "metadata": {},
   "source": [
    "#### str與bytes"
   ]
  },
  {
   "cell_type": "code",
   "execution_count": 150,
   "metadata": {
    "collapsed": false
   },
   "outputs": [
    {
     "name": "stdout",
     "output_type": "stream",
     "text": [
      "1\n",
      "b'\\xe5\\x93\\x88'\n",
      "b'\\xab\\xa2'\n",
      "<class 'bytes'>\n",
      "哈\n"
     ]
    }
   ],
   "source": [
    "## 從Python 3 之後，每個字串都包含了Unicode 字元\n",
    "## 每個字串都是 str 型態\n",
    "## 可以使用 encode() 方法指定編碼，取得一個 bytes 實例\n",
    "## 如果有個 bytes 實例，也可以使用 decode()方法，指定該位元組代表的編碼，將 bytes 解碼為 str 實例\n",
    "\n",
    "text='哈'\n",
    "print(len(text))\n",
    "print(text.encode('UTF-8'))\n",
    "print(text.encode('BIG5'))\n",
    "big5_impl =text.encode('BIG5')\n",
    "print(type(big5_impl))\n",
    "print(big5_impl.decode('BIG5'))"
   ]
  },
  {
   "cell_type": "code",
   "execution_count": 173,
   "metadata": {
    "collapsed": false
   },
   "outputs": [
    {
     "name": "stdout",
     "output_type": "stream",
     "text": [
      "2\n"
     ]
    }
   ],
   "source": [
    "## 可以在字串前加上個 b 來建立一個 bytes，這是從 Python 3.3 之後開始支援的語法\n",
    "## 可以在字串前加上一個 u，結果會是個 str,這是為了增加與 Python 2 的相容性\n",
    "print(len(u'哈囉'))\n",
    "\n"
   ]
  },
  {
   "cell_type": "code",
   "execution_count": 162,
   "metadata": {
    "collapsed": false
   },
   "outputs": [
    {
     "name": "stdout",
     "output_type": "stream",
     "text": [
      "哈\n",
      "囉\n",
      "True\n",
      "False\n",
      "123\n"
     ]
    }
   ],
   "source": [
    "## 從Python 3 之後，想要取得字串中某個位置字元時，可以使用索引，索引從0 開始\n",
    "## 想測試某字元是否在字串中，可以使用 in\n",
    "## 字串都是不可變動（Immutable）\n",
    "text='哈囉'\n",
    "print(text[0])\n",
    "print(text[1])\n",
    "\n",
    "print('哈' in text)\n",
    "print('式' in text)"
   ]
  },
  {
   "cell_type": "markdown",
   "metadata": {},
   "source": [
    "## 集合資料型別"
   ]
  },
  {
   "cell_type": "markdown",
   "metadata": {},
   "source": [
    "#### 清單（list）"
   ]
  },
  {
   "cell_type": "code",
   "execution_count": 220,
   "metadata": {
    "collapsed": false
   },
   "outputs": [
    {
     "name": "stdout",
     "output_type": "stream",
     "text": [
      "[1, 2, 3]\n",
      "[1, 2, 3, 4]\n",
      "1\n",
      "[1, 2, 3, 0]\n",
      "[1, 3, 0]\n",
      "[3, 0]\n",
      "True\n",
      "['h', 'e', 'l', 'l', 'o']\n",
      "['e', 'l', 'h', 'o']\n"
     ]
    }
   ],
   "source": [
    "## 型態是 list\n",
    "## 特性為有序、具備索引，內容與長度可以變動\n",
    "## 要建立串列，可以使用 [] 實字，串列中每個元素，使用逗號「,」區隔\n",
    "x=[1,2,3]\n",
    "print(x)\n",
    "x.append(4)\n",
    "print(x)\n",
    "print(x[0])\n",
    "x[3]=0\n",
    "print(x)\n",
    "x.remove(2)\n",
    "print(x)\n",
    "del x[0]\n",
    "print(x)\n",
    "print(3 in x)\n",
    "\n",
    "## 從可迭代（Iterable）的物件中建立 list\n",
    "x = list('hello')\n",
    "print(x)\n",
    "print(list({'h','e','l','l','o'}))"
   ]
  },
  {
   "cell_type": "markdown",
   "metadata": {},
   "source": [
    "#### 集合（set）"
   ]
  },
  {
   "cell_type": "code",
   "execution_count": 227,
   "metadata": {
    "collapsed": false
   },
   "outputs": [
    {
     "name": "stdout",
     "output_type": "stream",
     "text": [
      "set()\n",
      "{'kevin', 'ted'}\n",
      "{'ted'}\n",
      "False True\n"
     ]
    }
   ],
   "source": [
    "## 無序、元素不重複\n",
    "## 可以使用{}包括元素，元素間使用「,」區隔，這會建立 set 實例\n",
    "## 想建立空集合，必須使用 set()\n",
    "\n",
    "users=set()\n",
    "print(users)\n",
    "users.add(\"kevin\")\n",
    "users.add(\"ted\")\n",
    "print(users)\n",
    "users.remove(\"kevin\")\n",
    "print(users)\n",
    "print(\"kevin\" in users,\"ted\" in users)\n"
   ]
  },
  {
   "cell_type": "code",
   "execution_count": 232,
   "metadata": {
    "collapsed": false
   },
   "outputs": [
    {
     "ename": "TypeError",
     "evalue": "unhashable type: 'list'",
     "output_type": "error",
     "traceback": [
      "\u001b[0;31m---------------------------------------------------------------------------\u001b[0m",
      "\u001b[0;31mTypeError\u001b[0m                                 Traceback (most recent call last)",
      "\u001b[0;32m<ipython-input-232-0a5a39a680bc>\u001b[0m in \u001b[0;36m<module>\u001b[0;34m()\u001b[0m\n\u001b[1;32m      1\u001b[0m \u001b[1;31m## 並非任何元素，都能放到集合\u001b[0m\u001b[1;33m\u001b[0m\u001b[1;33m\u001b[0m\u001b[0m\n\u001b[0;32m----> 2\u001b[0;31m \u001b[0mx\u001b[0m \u001b[1;33m=\u001b[0m \u001b[1;33m{\u001b[0m\u001b[1;33m[\u001b[0m\u001b[1;36m1\u001b[0m\u001b[1;33m,\u001b[0m\u001b[1;36m2\u001b[0m\u001b[1;33m,\u001b[0m\u001b[1;36m3\u001b[0m\u001b[1;33m]\u001b[0m\u001b[1;33m}\u001b[0m\u001b[1;33m\u001b[0m\u001b[0m\n\u001b[0m\u001b[1;32m      3\u001b[0m \u001b[0mx\u001b[0m \u001b[1;33m=\u001b[0m \u001b[1;33m{\u001b[0m\u001b[1;33m{\u001b[0m\u001b[1;36m1\u001b[0m\u001b[1;33m,\u001b[0m\u001b[1;36m2\u001b[0m\u001b[1;33m,\u001b[0m\u001b[1;36m3\u001b[0m\u001b[1;33m}\u001b[0m\u001b[1;33m}\u001b[0m\u001b[1;33m\u001b[0m\u001b[0m\n",
      "\u001b[0;31mTypeError\u001b[0m: unhashable type: 'list'"
     ]
    }
   ],
   "source": [
    "## 並非任何元素，都能放到集合\n",
    "x = {[1,2,3]}\n",
    "x = {{1,2,3}}"
   ]
  },
  {
   "cell_type": "code",
   "execution_count": 230,
   "metadata": {
    "collapsed": false
   },
   "outputs": [
    {
     "name": "stdout",
     "output_type": "stream",
     "text": [
      "{'r', 'd', 'o', 'e', 'l', 'W', 'H', '!'}\n",
      "{1, 2, 3}\n",
      "{1, 2, 3}\n"
     ]
    }
   ],
   "source": [
    "## 想從其他可迭代的物件中建立 set，像是字串、list 或 Tuple 等，可以使用 set()\n",
    "print(set(\"Hello!!World!!\"))\n",
    "print(set([1,2,3]))\n",
    "print(set((1,2,3)))"
   ]
  },
  {
   "cell_type": "markdown",
   "metadata": {},
   "source": [
    "#### 字典(dict)"
   ]
  },
  {
   "cell_type": "code",
   "execution_count": 241,
   "metadata": {
    "collapsed": false
   },
   "outputs": [
    {
     "name": "stdout",
     "output_type": "stream",
     "text": [
      "kevin:12345678\n",
      "{'kevin': '12345678', 'ted': 'QWERASD', 'peter': '987654321'}\n",
      "{'kevin': '12345678', 'ted': 'QWERASD', 'peter': '987654321', 'Erica': '5tgbnhy6'}\n",
      "{'kevin': '12345678', 'ted': 'QWERASD', 'peter': '987654321'}\n"
     ]
    }
   ],
   "source": [
    "## 儲存兩兩對應的鍵與值，為 dict 型態\n",
    "## dict 中的鍵不重複，必須是 hashable\n",
    "password = {\"kevin\":\"12345678\",\"ted\":\"QWERASD\",\"peter\":\"987654321\"}\n",
    "print(\"kevin:\"+password[\"kevin\"])\n",
    "print(password)\n",
    "password[\"Erica\"]=\"5tgbnhy6\"\n",
    "print(password)\n",
    "del password[\"Erica\"]\n",
    "print(password)\n"
   ]
  },
  {
   "cell_type": "code",
   "execution_count": 249,
   "metadata": {
    "collapsed": false
   },
   "outputs": [
    {
     "name": "stdout",
     "output_type": "stream",
     "text": [
      "None\n",
      "True\n",
      "99999\n",
      "{'kevin': '12345678', 'ted': 'QWERASD', 'peter': '987654321'}\n"
     ]
    },
    {
     "ename": "KeyError",
     "evalue": "'Erica'",
     "output_type": "error",
     "traceback": [
      "\u001b[0;31m---------------------------------------------------------------------------\u001b[0m",
      "\u001b[0;31mKeyError\u001b[0m                                  Traceback (most recent call last)",
      "\u001b[0;32m<ipython-input-249-9906ee82ad11>\u001b[0m in \u001b[0;36m<module>\u001b[0;34m()\u001b[0m\n\u001b[1;32m      5\u001b[0m \u001b[1;33m\u001b[0m\u001b[0m\n\u001b[1;32m      6\u001b[0m \u001b[1;31m## 直接使用[]指定鍵要取得值時，若 dict 中並沒有該鍵的存在，會發生 KeyError\u001b[0m\u001b[1;33m\u001b[0m\u001b[1;33m\u001b[0m\u001b[0m\n\u001b[0;32m----> 7\u001b[0;31m \u001b[0mpassword\u001b[0m\u001b[1;33m[\u001b[0m\u001b[1;34m\"Erica\"\u001b[0m\u001b[1;33m]\u001b[0m\u001b[1;33m\u001b[0m\u001b[0m\n\u001b[0m",
      "\u001b[0;31mKeyError\u001b[0m: 'Erica'"
     ]
    }
   ],
   "source": [
    "print(password.get(\"Erica\"))\n",
    "print(password.get(\"Erica\") == None)\n",
    "print(password.get(\"Erica\",99999))\n",
    "print(password)\n",
    "\n",
    "## 直接使用[]指定鍵要取得值時，若 dict 中並沒有該鍵的存在，會發生 KeyError\n",
    "password[\"Erica\"]\n"
   ]
  },
  {
   "cell_type": "code",
   "execution_count": 252,
   "metadata": {
    "collapsed": false
   },
   "outputs": [
    {
     "name": "stdout",
     "output_type": "stream",
     "text": [
      "[('kevin', '12345678'), ('ted', 'QWERASD'), ('peter', '987654321')]\n",
      "['kevin', 'ted', 'peter']\n",
      "['12345678', 'QWERASD', '987654321']\n"
     ]
    }
   ],
   "source": [
    "## items()、keys()、values()\n",
    "print(list(password.items()))\n",
    "print(list(password.keys()))\n",
    "print(list(password.values()))"
   ]
  },
  {
   "cell_type": "code",
   "execution_count": 257,
   "metadata": {
    "collapsed": false
   },
   "outputs": [
    {
     "name": "stdout",
     "output_type": "stream",
     "text": [
      "{'test1': 10000, 'test2': 20000, 'test3': 30000}\n",
      "{'test4': 40000, 'test5': 50000, 'test6': 60000}\n",
      "{'test4': 10000, 'test5': 10000}\n"
     ]
    }
   ],
   "source": [
    "## 也可以使用 dict()來建立字典\n",
    "money=dict(test1=10000,test2=20000,test3=30000)\n",
    "print(money)\n",
    "money=dict([(\"test4\",40000),(\"test5\",50000),(\"test6\",60000)])\n",
    "print(money)\n",
    "money = dict.fromkeys([\"test4\",\"test5\"],10000)\n",
    "print(money)"
   ]
  },
  {
   "cell_type": "markdown",
   "metadata": {},
   "source": [
    "#### 數組(tuple)"
   ]
  },
  {
   "cell_type": "code",
   "execution_count": 260,
   "metadata": {
    "collapsed": false
   },
   "outputs": [
    {
     "name": "stdout",
     "output_type": "stream",
     "text": [
      "(1, 'kevin', 2.01)\n",
      "<class 'tuple'>\n"
     ]
    }
   ],
   "source": [
    "## 許多地方都跟 list 很像\n",
    "## 不過 Tuple 建立之後，就不能變動了\n",
    "acct = 1,\"kevin\",2.01\n",
    "print(acct)\n",
    "print(type(acct))"
   ]
  },
  {
   "cell_type": "code",
   "execution_count": 264,
   "metadata": {
    "collapsed": false
   },
   "outputs": [
    {
     "name": "stdout",
     "output_type": "stream",
     "text": [
      "1\n",
      "kevin\n",
      "True\n"
     ]
    }
   ],
   "source": [
    "## 可以將 Tuple 中的元素拆解（Unpack）\n",
    "data = (1,\"kevin\",True)\n",
    "id,name,verified=data\n",
    "print(id)\n",
    "print(name)\n",
    "print(verified)"
   ]
  },
  {
   "cell_type": "code",
   "execution_count": 267,
   "metadata": {
    "collapsed": false
   },
   "outputs": [
    {
     "name": "stdout",
     "output_type": "stream",
     "text": [
      "10 20\n",
      "20 10\n"
     ]
    }
   ],
   "source": [
    "## Python 中最常被拿來津津樂道的特色\n",
    "x=10\n",
    "y=20\n",
    "print(x,y)\n",
    "x,y=y,x\n",
    "print(x,y)"
   ]
  },
  {
   "cell_type": "code",
   "execution_count": 269,
   "metadata": {
    "collapsed": false
   },
   "outputs": [
    {
     "name": "stdout",
     "output_type": "stream",
     "text": [
      "1 [2, 3, 4, 5]\n",
      "1 [2, 3, 4] 5\n"
     ]
    }
   ],
   "source": [
    "## Python 2 或Python 3，拆解元素指定給變數的特性，在 list、set 等物件上，也可以使用\n",
    "a,*b=(1,2,3,4,5)\n",
    "print(a,b)\n",
    "a,*b,c=(1,2,3,4,5)\n",
    "print(a,b,c)"
   ]
  },
  {
   "cell_type": "code",
   "execution_count": null,
   "metadata": {
    "collapsed": true
   },
   "outputs": [],
   "source": []
  }
 ],
 "metadata": {
  "kernelspec": {
   "display_name": "Python 3",
   "language": "python",
   "name": "python3"
  },
  "language_info": {
   "codemirror_mode": {
    "name": "ipython",
    "version": 3
   },
   "file_extension": ".py",
   "mimetype": "text/x-python",
   "name": "python",
   "nbconvert_exporter": "python",
   "pygments_lexer": "ipython3",
   "version": "3.6.0"
  }
 },
 "nbformat": 4,
 "nbformat_minor": 2
}
