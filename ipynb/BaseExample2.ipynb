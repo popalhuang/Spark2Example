{
 "cells": [
  {
   "cell_type": "markdown",
   "metadata": {},
   "source": [
    "#### 算術運算"
   ]
  },
  {
   "cell_type": "code",
   "execution_count": 3,
   "metadata": {
    "collapsed": false
   },
   "outputs": [
    {
     "name": "stdout",
     "output_type": "stream",
     "text": [
      "0.30000000000000004\n",
      "0.19999999999999996\n",
      "False\n"
     ]
    }
   ],
   "source": [
    "## 電腦世界跟我們想的不一樣\n",
    "print(0.1+0.1+0.1)\n",
    "print(1.0-0.8)\n",
    "print(0.1+0.1+0.1 == 0.3)"
   ]
  },
  {
   "cell_type": "code",
   "execution_count": 23,
   "metadata": {
    "collapsed": false
   },
   "outputs": [
    {
     "name": "stdout",
     "output_type": "stream",
     "text": [
      "#不使用 decimal\n",
      "1.0 + 0.8 = 1.8\n",
      "1.0 - 0.8 = 0.19999999999999996\n",
      "1.0 * 0.8 = 0.8\n",
      "1.0 / 0.8 = 1.25\n",
      "\n",
      "#不使用 decimal\n",
      "1.0 + 0.8 = 1.8\n",
      "1.0 - 0.8 = 0.2\n",
      "1.0 * 0.8 = 0.80\n",
      "1.0 / 0.8 = 1.25\n",
      "8\n",
      "32\n",
      "1024\n",
      "3.0\n",
      "3.3333333333333335\n",
      "3\n",
      "3.3333333333333335\n",
      "3.0\n",
      "1\n",
      "True\n",
      "False\n"
     ]
    }
   ],
   "source": [
    "## 開發人員基本上都要知道 IEEE 754 浮點數算術標準\n",
    "## 不使用小數點，而是使用分數及指數來表示小數\n",
    "## 如果對小數點的精度要求很高的話，就要小心這個問題\n",
    "## 0.1 + 0.1 + 0.1 == 0.3，結果會False\n",
    "## 如果需要處理小數，而且需要精確的結果，那麼可以使用 decimal.Decimal\n",
    "\n",
    "import sys\n",
    "import decimal\n",
    "n1 = float(1.0)\n",
    "n2 = float(0.8)\n",
    "d1 = decimal.Decimal(\"1.0\") \n",
    "d2 = decimal.Decimal(\"0.8\")\n",
    "\n",
    "print(\"#不使用 decimal\")\n",
    "print('{0} + {1} = {2}'.format(n1,n2,n1+n2))\n",
    "print('{0} - {1} = {2}'.format(n1,n2,n1-n2))\n",
    "print('{0} * {1} = {2}'.format(n1,n2,n1*n2))\n",
    "print('{0} / {1} = {2}'.format(n1,n2,n1/n2))\n",
    "\n",
    "print(\"\\n#不使用 decimal\")\n",
    "print('{0} + {1} = {2}'.format(d1,d2,d1+d2))\n",
    "print('{0} - {1} = {2}'.format(d1,d2,d1-d2))\n",
    "print('{0} * {1} = {2}'.format(d1,d2,d1*d2))\n",
    "print('{0} / {1} = {2}'.format(d1,d2,d1/d2))\n",
    "\n",
    "##在乘法運算上，除了可以使用 * 進行兩個數字的相乘，還可以使用 ** 進行(指數運算)\n",
    "print(2**3)\n",
    "print(2**5)\n",
    "print(2**10)\n",
    "print(9**0.5)\n",
    "\n",
    "## 在除法運算上，有 / 與 // 兩個運算子\n",
    "print(10/3)\n",
    "print(10//3)\n",
    "print(10/3.0)\n",
    "print(10//3.0)\n",
    "\n",
    "## a % b 會進行除法運算並取餘數作為結果\n",
    "print(10%3)\n",
    "\n",
    "## 布林值需要進行+、-、*、/ 等運算時，True 會被當成是 1，False 會被當成是 0，接著再進行運算\n",
    "print(bool(10/3))    ## 運算結果不為0,所以布林值為True\n",
    "print(bool(10%10))   ## 運算結果為0,所以布林值為False"
   ]
  },
  {
   "cell_type": "code",
   "execution_count": 25,
   "metadata": {
    "collapsed": false
   },
   "outputs": [
    {
     "name": "stdout",
     "output_type": "stream",
     "text": [
      "Hello!!world!!\n",
      "Hello!!Hello!!Hello!!\n"
     ]
    }
   ],
   "source": [
    "## 使用+運算子可以串接字串，使用*可以重複字串：\n",
    "print(\"Hello!!\"+\"world!!\")\n",
    "print(\"Hello!!\"*3)"
   ]
  },
  {
   "cell_type": "code",
   "execution_count": 29,
   "metadata": {
    "collapsed": false
   },
   "outputs": [
    {
     "name": "stdout",
     "output_type": "stream",
     "text": [
      "101\n",
      "11\n"
     ]
    },
    {
     "ename": "TypeError",
     "evalue": "must be str, not int",
     "output_type": "error",
     "traceback": [
      "\u001b[0;31m---------------------------------------------------------------------------\u001b[0m",
      "\u001b[0;31mTypeError\u001b[0m                                 Traceback (most recent call last)",
      "\u001b[0;32m<ipython-input-29-a304d1d5e70a>\u001b[0m in \u001b[0;36m<module>\u001b[0;34m()\u001b[0m\n\u001b[1;32m      2\u001b[0m \u001b[0mprint\u001b[0m\u001b[1;33m(\u001b[0m\u001b[1;34m\"10\"\u001b[0m\u001b[1;33m+\u001b[0m\u001b[1;34m\"1\"\u001b[0m\u001b[1;33m)\u001b[0m\u001b[1;33m\u001b[0m\u001b[0m\n\u001b[1;32m      3\u001b[0m \u001b[0mprint\u001b[0m\u001b[1;33m(\u001b[0m\u001b[0mint\u001b[0m\u001b[1;33m(\u001b[0m\u001b[1;34m\"10\"\u001b[0m\u001b[1;33m)\u001b[0m\u001b[1;33m+\u001b[0m\u001b[1;36m1\u001b[0m\u001b[1;33m)\u001b[0m\u001b[1;33m\u001b[0m\u001b[0m\n\u001b[0;32m----> 4\u001b[0;31m \u001b[0mprint\u001b[0m\u001b[1;33m(\u001b[0m\u001b[1;34m\"10\"\u001b[0m\u001b[1;33m+\u001b[0m\u001b[1;36m1\u001b[0m\u001b[1;33m)\u001b[0m\u001b[1;33m\u001b[0m\u001b[0m\n\u001b[0m",
      "\u001b[0;31mTypeError\u001b[0m: must be str, not int"
     ]
    }
   ],
   "source": [
    "## Python 偏向強型別，也就是型態間在運算時，比較不會自行發生轉換\n",
    "print(\"10\"+\"1\")\n",
    "print(int(\"10\")+1)\n",
    "print(\"10\"+1)"
   ]
  },
  {
   "cell_type": "code",
   "execution_count": 35,
   "metadata": {
    "collapsed": false
   },
   "outputs": [
    {
     "name": "stdout",
     "output_type": "stream",
     "text": [
      "['one', 'two', 'three', 'four']\n",
      "['one', 'two', 'one', 'two', 'one', 'two']\n",
      "[['one', 'two'], ['three', 'four']]\n",
      "[['1', '2'], ['three', 'four']]\n"
     ]
    }
   ],
   "source": [
    "## list 有許多方面與字串類似\n",
    "## +串接兩 list，實際上會產生新的 list，然後將原有的兩個 list 中之元素參考，複製至新產生的 list 上\n",
    "## 同樣的道理也應用在使用 * 重複 list 時\n",
    "nums1 = [\"one\",\"two\"]\n",
    "nums2 = [\"three\",\"four\"]\n",
    "print(nums1+nums2)\n",
    "print(nums1*3)\n",
    "\n",
    "nums_lt=[nums1,nums2]\n",
    "print(nums_lt)\n",
    "nums1[0],nums1[1]=\"1\",\"2\"\n",
    "print(nums_lt)"
   ]
  },
  {
   "cell_type": "code",
   "execution_count": 37,
   "metadata": {
    "collapsed": false
   },
   "outputs": [
    {
     "name": "stdout",
     "output_type": "stream",
     "text": [
      "(['one', 'two'], ['three', 'four'])\n",
      "(['1', '2'], ['three', 'four'])\n"
     ]
    }
   ],
   "source": [
    "## tuple 與 list 有許多類似之處\n",
    "nums1 = [\"one\",\"two\"]\n",
    "nums2 = [\"three\",\"four\"]\n",
    "\n",
    "nums_tp=(nums1,nums2)\n",
    "print(nums_tp)\n",
    "nums1[0],nums1[1]=\"1\",\"2\"\n",
    "print(nums_tp)"
   ]
  },
  {
   "cell_type": "code",
   "execution_count": null,
   "metadata": {
    "collapsed": true
   },
   "outputs": [],
   "source": []
  }
 ],
 "metadata": {
  "kernelspec": {
   "display_name": "Python 3",
   "language": "python",
   "name": "python3"
  },
  "language_info": {
   "codemirror_mode": {
    "name": "ipython",
    "version": 3
   },
   "file_extension": ".py",
   "mimetype": "text/x-python",
   "name": "python",
   "nbconvert_exporter": "python",
   "pygments_lexer": "ipython3",
   "version": "3.6.0"
  }
 },
 "nbformat": 4,
 "nbformat_minor": 2
}
